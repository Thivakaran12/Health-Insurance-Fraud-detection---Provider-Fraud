{
 "cells": [
  {
   "cell_type": "markdown",
   "metadata": {},
   "source": [
    "# Feature Engineering"
   ]
  },
  {
   "cell_type": "markdown",
   "metadata": {},
   "source": [
    "Group by Provider"
   ]
  },
  {
   "cell_type": "code",
   "execution_count": 1,
   "metadata": {},
   "outputs": [],
   "source": [
    "import matplotlib.pyplot as plt\n",
    "import seaborn as sns\n",
    "import warnings\n",
    "warnings.filterwarnings('ignore')\n",
    "import numpy as np\n",
    "import pandas as pd"
   ]
  },
  {
   "cell_type": "markdown",
   "metadata": {},
   "source": [
    "Reading Input files"
   ]
  },
  {
   "cell_type": "code",
   "execution_count": 2,
   "metadata": {},
   "outputs": [],
   "source": [
    "Final_Dataset_Train = pd.read_csv('C:/Users/Asus/Desktop/Final_Implementation/Processed/Final_Dataset_Train.csv')\n",
    "Final_Dataset_Test = pd.read_csv('C:/Users/Asus/Desktop/Final_Implementation/Processed/Final_Dataset_Test.csv')"
   ]
  },
  {
   "cell_type": "code",
   "execution_count": 3,
   "metadata": {},
   "outputs": [],
   "source": [
    "def create_feature_using_groupby(Train_df, Test_df, gruopby_col, operation_col,operation):\n",
    "    '''\n",
    "    This function groupby the 'Train_df' and 'Test_df' dataframe by 'gruopby_col' and performs 'operation' on 'operation_col'\n",
    "    '''\n",
    "\n",
    "    for col in operation_col:\n",
    "        # create new column name for the dataframe\n",
    "        new_col_name = 'Per'+''.join(gruopby_col)+'_'+operation+'_'+col\n",
    "        print(new_col_name)\n",
    "        Train_df[new_col_name] = Train_df.groupby(gruopby_col)[col].transform(operation)\n",
    "        Test_df[new_col_name] = Test_df.groupby(gruopby_col)[col].transform(operation)\n",
    "    return Train_df, Test_df"
   ]
  },
  {
   "cell_type": "markdown",
   "metadata": {},
   "source": [
    "As Providers fills and submits the claim they are mainly associated with the fraudulent activity. So, we can  group by provider and take the mean of reimbursed, deducted etc. If average claim amount or claim period is high for a provider, this is suspicious."
   ]
  },
  {
   "cell_type": "code",
   "execution_count": 4,
   "metadata": {},
   "outputs": [
    {
     "name": "stdout",
     "output_type": "stream",
     "text": [
      "PerProvider_mean_InscClaimAmtReimbursed\n",
      "PerProvider_mean_DeductibleAmtPaid\n",
      "PerProvider_mean_IPAnnualReimbursementAmt\n",
      "PerProvider_mean_IPAnnualDeductibleAmt\n",
      "PerProvider_mean_OPAnnualReimbursementAmt\n",
      "PerProvider_mean_OPAnnualDeductibleAmt\n",
      "PerProvider_mean_Patient_Age\n",
      "PerProvider_mean_NoOfMonths_PartACov\n",
      "PerProvider_mean_NoOfMonths_PartBCov\n",
      "PerProvider_mean_Hospitalization_Duration\n",
      "PerProvider_mean_Claim_Period\n",
      "PerProvider_mean_Patient_Risk_Score\n"
     ]
    }
   ],
   "source": [
    "columns = ['InscClaimAmtReimbursed', 'DeductibleAmtPaid', 'IPAnnualReimbursementAmt', 'IPAnnualDeductibleAmt', 'OPAnnualReimbursementAmt', 'OPAnnualDeductibleAmt', 'Patient_Age', 'NoOfMonths_PartACov', 'NoOfMonths_PartBCov', 'Hospitalization_Duration', 'Claim_Period', 'Patient_Risk_Score']\n",
    "\n",
    "Final_Dataset_Train,Final_Dataset_Test = create_feature_using_groupby(Final_Dataset_Train, Final_Dataset_Test, ['Provider'], columns, 'mean')\n"
   ]
  },
  {
   "cell_type": "markdown",
   "metadata": {},
   "source": [
    "Beneficiaries also associated with fraudulent activity. So, group by the dataframe by Beneficiary Id and take mean. If average claim amount is high for a beneficiary then this is suspicious."
   ]
  },
  {
   "cell_type": "code",
   "execution_count": 5,
   "metadata": {},
   "outputs": [
    {
     "name": "stdout",
     "output_type": "stream",
     "text": [
      "PerBeneID_mean_InscClaimAmtReimbursed\n",
      "PerBeneID_mean_DeductibleAmtPaid\n",
      "PerBeneID_mean_IPAnnualReimbursementAmt\n",
      "PerBeneID_mean_IPAnnualDeductibleAmt\n",
      "PerBeneID_mean_OPAnnualReimbursementAmt\n",
      "PerBeneID_mean_OPAnnualDeductibleAmt\n",
      "PerBeneID_mean_Patient_Age\n",
      "PerBeneID_mean_Hospitalization_Duration\n",
      "PerBeneID_mean_Claim_Period\n",
      "PerBeneID_mean_Patient_Risk_Score\n"
     ]
    }
   ],
   "source": [
    "columns = ['InscClaimAmtReimbursed', 'DeductibleAmtPaid', 'IPAnnualReimbursementAmt', 'IPAnnualDeductibleAmt', 'OPAnnualReimbursementAmt', 'OPAnnualDeductibleAmt', 'Patient_Age', 'Hospitalization_Duration', 'Claim_Period', 'Patient_Risk_Score']\n",
    "\n",
    "Final_Dataset_Train,Final_Dataset_Test =  create_feature_using_groupby(Final_Dataset_Train, Final_Dataset_Test, ['BeneID'], columns, 'mean')\n"
   ]
  },
  {
   "cell_type": "code",
   "execution_count": 6,
   "metadata": {},
   "outputs": [
    {
     "name": "stdout",
     "output_type": "stream",
     "text": [
      "PerAttendingPhysician_mean_InscClaimAmtReimbursed\n",
      "PerAttendingPhysician_mean_DeductibleAmtPaid\n",
      "PerAttendingPhysician_mean_IPAnnualReimbursementAmt\n",
      "PerAttendingPhysician_mean_IPAnnualDeductibleAmt\n",
      "PerAttendingPhysician_mean_OPAnnualReimbursementAmt\n",
      "PerAttendingPhysician_mean_OPAnnualDeductibleAmt\n",
      "PerAttendingPhysician_mean_Patient_Age\n",
      "PerAttendingPhysician_mean_Hospitalization_Duration\n",
      "PerAttendingPhysician_mean_Claim_Period\n",
      "PerAttendingPhysician_mean_Patient_Risk_Score\n"
     ]
    }
   ],
   "source": [
    "columns = ['InscClaimAmtReimbursed', 'DeductibleAmtPaid', 'IPAnnualReimbursementAmt', 'IPAnnualDeductibleAmt', 'OPAnnualReimbursementAmt', 'OPAnnualDeductibleAmt', 'Patient_Age', 'Hospitalization_Duration', 'Claim_Period', 'Patient_Risk_Score']\n",
    "\n",
    "Final_Dataset_Train,Final_Dataset_Test =  create_feature_using_groupby(Final_Dataset_Train, Final_Dataset_Test, ['AttendingPhysician'], columns, 'mean')\n",
    "\n"
   ]
  },
  {
   "cell_type": "code",
   "execution_count": 7,
   "metadata": {},
   "outputs": [
    {
     "name": "stdout",
     "output_type": "stream",
     "text": [
      "PerOperatingPhysician_mean_InscClaimAmtReimbursed\n",
      "PerOperatingPhysician_mean_DeductibleAmtPaid\n",
      "PerOperatingPhysician_mean_IPAnnualReimbursementAmt\n",
      "PerOperatingPhysician_mean_IPAnnualDeductibleAmt\n",
      "PerOperatingPhysician_mean_OPAnnualReimbursementAmt\n",
      "PerOperatingPhysician_mean_OPAnnualDeductibleAmt\n",
      "PerOperatingPhysician_mean_Patient_Age\n",
      "PerOperatingPhysician_mean_Hospitalization_Duration\n",
      "PerOperatingPhysician_mean_Claim_Period\n",
      "PerOperatingPhysician_mean_Patient_Risk_Score\n"
     ]
    }
   ],
   "source": [
    "columns = ['InscClaimAmtReimbursed', 'DeductibleAmtPaid', 'IPAnnualReimbursementAmt', 'IPAnnualDeductibleAmt', 'OPAnnualReimbursementAmt', 'OPAnnualDeductibleAmt', 'Patient_Age', 'Hospitalization_Duration', 'Claim_Period', 'Patient_Risk_Score']\n",
    "\n",
    "Final_Dataset_Train,Final_Dataset_Test =  create_feature_using_groupby(Final_Dataset_Train, Final_Dataset_Test, ['OperatingPhysician'], columns, 'mean')\n"
   ]
  },
  {
   "cell_type": "code",
   "execution_count": 8,
   "metadata": {},
   "outputs": [
    {
     "name": "stdout",
     "output_type": "stream",
     "text": [
      "PerOtherPhysician_mean_InscClaimAmtReimbursed\n",
      "PerOtherPhysician_mean_DeductibleAmtPaid\n",
      "PerOtherPhysician_mean_IPAnnualReimbursementAmt\n",
      "PerOtherPhysician_mean_IPAnnualDeductibleAmt\n",
      "PerOtherPhysician_mean_OPAnnualReimbursementAmt\n",
      "PerOtherPhysician_mean_OPAnnualDeductibleAmt\n",
      "PerOtherPhysician_mean_Patient_Age\n",
      "PerOtherPhysician_mean_Hospitalization_Duration\n",
      "PerOtherPhysician_mean_Claim_Period\n",
      "PerOtherPhysician_mean_Patient_Risk_Score\n"
     ]
    }
   ],
   "source": [
    "columns = ['InscClaimAmtReimbursed', 'DeductibleAmtPaid', 'IPAnnualReimbursementAmt', 'IPAnnualDeductibleAmt', 'OPAnnualReimbursementAmt', 'OPAnnualDeductibleAmt', 'Patient_Age', 'Hospitalization_Duration', 'Claim_Period', 'Patient_Risk_Score']\n",
    "\n",
    "Final_Dataset_Train,Final_Dataset_Test =  create_feature_using_groupby(Final_Dataset_Train, Final_Dataset_Test, ['OtherPhysician'], columns, 'mean')\n"
   ]
  },
  {
   "cell_type": "markdown",
   "metadata": {},
   "source": [
    "Need to group by all diagnosis codes to combine the patients who performed the same tests and take average of costs etc."
   ]
  },
  {
   "cell_type": "code",
   "execution_count": 9,
   "metadata": {},
   "outputs": [
    {
     "name": "stdout",
     "output_type": "stream",
     "text": [
      "PerDiagnosisGroupCode_mean_InscClaimAmtReimbursed\n",
      "PerDiagnosisGroupCode_mean_DeductibleAmtPaid\n",
      "PerDiagnosisGroupCode_mean_IPAnnualReimbursementAmt\n",
      "PerDiagnosisGroupCode_mean_IPAnnualDeductibleAmt\n",
      "PerDiagnosisGroupCode_mean_OPAnnualReimbursementAmt\n",
      "PerDiagnosisGroupCode_mean_OPAnnualDeductibleAmt\n",
      "PerDiagnosisGroupCode_mean_Patient_Age\n",
      "PerDiagnosisGroupCode_mean_Hospitalization_Duration\n",
      "PerDiagnosisGroupCode_mean_Claim_Period\n",
      "PerDiagnosisGroupCode_mean_Patient_Risk_Score\n"
     ]
    }
   ],
   "source": [
    "columns = ['InscClaimAmtReimbursed', 'DeductibleAmtPaid', 'IPAnnualReimbursementAmt', 'IPAnnualDeductibleAmt', 'OPAnnualReimbursementAmt', 'OPAnnualDeductibleAmt', 'Patient_Age', 'Hospitalization_Duration', 'Claim_Period', 'Patient_Risk_Score']\n",
    "\n",
    "Final_Dataset_Train,Final_Dataset_Test =  create_feature_using_groupby(Final_Dataset_Train, Final_Dataset_Test, ['DiagnosisGroupCode'], columns, 'mean')\n"
   ]
  },
  {
   "cell_type": "code",
   "execution_count": 10,
   "metadata": {},
   "outputs": [
    {
     "name": "stdout",
     "output_type": "stream",
     "text": [
      "PerClmAdmitDiagnosisCode_mean_InscClaimAmtReimbursed\n",
      "PerClmAdmitDiagnosisCode_mean_DeductibleAmtPaid\n",
      "PerClmAdmitDiagnosisCode_mean_IPAnnualReimbursementAmt\n",
      "PerClmAdmitDiagnosisCode_mean_IPAnnualDeductibleAmt\n",
      "PerClmAdmitDiagnosisCode_mean_OPAnnualReimbursementAmt\n",
      "PerClmAdmitDiagnosisCode_mean_OPAnnualDeductibleAmt\n",
      "PerClmAdmitDiagnosisCode_mean_Patient_Age\n",
      "PerClmAdmitDiagnosisCode_mean_Hospitalization_Duration\n",
      "PerClmAdmitDiagnosisCode_mean_Claim_Period\n",
      "PerClmAdmitDiagnosisCode_mean_Patient_Risk_Score\n"
     ]
    }
   ],
   "source": [
    "columns = ['InscClaimAmtReimbursed', 'DeductibleAmtPaid', 'IPAnnualReimbursementAmt', 'IPAnnualDeductibleAmt', 'OPAnnualReimbursementAmt', 'OPAnnualDeductibleAmt', 'Patient_Age', 'Hospitalization_Duration', 'Claim_Period', 'Patient_Risk_Score']\n",
    "\n",
    "Final_Dataset_Train,Final_Dataset_Test =  create_feature_using_groupby(Final_Dataset_Train, Final_Dataset_Test, ['ClmAdmitDiagnosisCode'], columns, 'mean')"
   ]
  },
  {
   "cell_type": "markdown",
   "metadata": {},
   "source": [
    "Need to group by all procedure codes to combine the patients who have gone through same procedure, take average of costs etc."
   ]
  },
  {
   "cell_type": "code",
   "execution_count": 11,
   "metadata": {},
   "outputs": [
    {
     "name": "stdout",
     "output_type": "stream",
     "text": [
      "PerClmProcedureCode_1_mean_InscClaimAmtReimbursed\n",
      "PerClmProcedureCode_1_mean_DeductibleAmtPaid\n",
      "PerClmProcedureCode_1_mean_IPAnnualReimbursementAmt\n",
      "PerClmProcedureCode_1_mean_IPAnnualDeductibleAmt\n",
      "PerClmProcedureCode_1_mean_OPAnnualReimbursementAmt\n",
      "PerClmProcedureCode_1_mean_OPAnnualDeductibleAmt\n",
      "PerClmProcedureCode_1_mean_Patient_Age\n",
      "PerClmProcedureCode_1_mean_Hospitalization_Duration\n",
      "PerClmProcedureCode_1_mean_Claim_Period\n",
      "PerClmProcedureCode_1_mean_Patient_Risk_Score\n"
     ]
    }
   ],
   "source": [
    "columns = ['InscClaimAmtReimbursed', 'DeductibleAmtPaid', 'IPAnnualReimbursementAmt', 'IPAnnualDeductibleAmt', 'OPAnnualReimbursementAmt', 'OPAnnualDeductibleAmt', 'Patient_Age', 'Hospitalization_Duration', 'Claim_Period', 'Patient_Risk_Score']\n",
    "\n",
    "Final_Dataset_Train,Final_Dataset_Test =  create_feature_using_groupby(Final_Dataset_Train, Final_Dataset_Test, ['ClmProcedureCode_1'], columns, 'mean')\n"
   ]
  },
  {
   "cell_type": "code",
   "execution_count": 12,
   "metadata": {},
   "outputs": [
    {
     "name": "stdout",
     "output_type": "stream",
     "text": [
      "PerClmProcedureCode_2_mean_InscClaimAmtReimbursed\n",
      "PerClmProcedureCode_2_mean_DeductibleAmtPaid\n",
      "PerClmProcedureCode_2_mean_IPAnnualReimbursementAmt\n",
      "PerClmProcedureCode_2_mean_IPAnnualDeductibleAmt\n",
      "PerClmProcedureCode_2_mean_OPAnnualReimbursementAmt\n",
      "PerClmProcedureCode_2_mean_OPAnnualDeductibleAmt\n",
      "PerClmProcedureCode_2_mean_Patient_Age\n",
      "PerClmProcedureCode_2_mean_Hospitalization_Duration\n",
      "PerClmProcedureCode_2_mean_Claim_Period\n",
      "PerClmProcedureCode_2_mean_Patient_Risk_Score\n"
     ]
    }
   ],
   "source": [
    "columns = ['InscClaimAmtReimbursed', 'DeductibleAmtPaid', 'IPAnnualReimbursementAmt', 'IPAnnualDeductibleAmt', 'OPAnnualReimbursementAmt', 'OPAnnualDeductibleAmt', 'Patient_Age', 'Hospitalization_Duration', 'Claim_Period', 'Patient_Risk_Score']\n",
    "\n",
    "Final_Dataset_Train,Final_Dataset_Test =  create_feature_using_groupby(Final_Dataset_Train, Final_Dataset_Test, ['ClmProcedureCode_2'], columns, 'mean')\n"
   ]
  },
  {
   "cell_type": "code",
   "execution_count": 13,
   "metadata": {},
   "outputs": [
    {
     "name": "stdout",
     "output_type": "stream",
     "text": [
      "PerClmProcedureCode_3_mean_InscClaimAmtReimbursed\n",
      "PerClmProcedureCode_3_mean_DeductibleAmtPaid\n",
      "PerClmProcedureCode_3_mean_IPAnnualReimbursementAmt\n",
      "PerClmProcedureCode_3_mean_IPAnnualDeductibleAmt\n",
      "PerClmProcedureCode_3_mean_OPAnnualReimbursementAmt\n",
      "PerClmProcedureCode_3_mean_OPAnnualDeductibleAmt\n",
      "PerClmProcedureCode_3_mean_Patient_Age\n",
      "PerClmProcedureCode_3_mean_Hospitalization_Duration\n",
      "PerClmProcedureCode_3_mean_Claim_Period\n",
      "PerClmProcedureCode_3_mean_Patient_Risk_Score\n"
     ]
    }
   ],
   "source": [
    "columns = ['InscClaimAmtReimbursed', 'DeductibleAmtPaid', 'IPAnnualReimbursementAmt', 'IPAnnualDeductibleAmt', 'OPAnnualReimbursementAmt', 'OPAnnualDeductibleAmt', 'Patient_Age', 'Hospitalization_Duration', 'Claim_Period', 'Patient_Risk_Score']\n",
    "\n",
    "Final_Dataset_Train,Final_Dataset_Test =  create_feature_using_groupby(Final_Dataset_Train, Final_Dataset_Test, ['ClmProcedureCode_3'], columns, 'mean')\n"
   ]
  },
  {
   "cell_type": "code",
   "execution_count": 14,
   "metadata": {},
   "outputs": [
    {
     "name": "stdout",
     "output_type": "stream",
     "text": [
      "PerClmProcedureCode_4_mean_InscClaimAmtReimbursed\n",
      "PerClmProcedureCode_4_mean_DeductibleAmtPaid\n",
      "PerClmProcedureCode_4_mean_IPAnnualReimbursementAmt\n",
      "PerClmProcedureCode_4_mean_IPAnnualDeductibleAmt\n",
      "PerClmProcedureCode_4_mean_OPAnnualReimbursementAmt\n",
      "PerClmProcedureCode_4_mean_OPAnnualDeductibleAmt\n",
      "PerClmProcedureCode_4_mean_Patient_Age\n",
      "PerClmProcedureCode_4_mean_Hospitalization_Duration\n",
      "PerClmProcedureCode_4_mean_Claim_Period\n",
      "PerClmProcedureCode_4_mean_Patient_Risk_Score\n"
     ]
    }
   ],
   "source": [
    "columns = ['InscClaimAmtReimbursed', 'DeductibleAmtPaid', 'IPAnnualReimbursementAmt', 'IPAnnualDeductibleAmt', 'OPAnnualReimbursementAmt', 'OPAnnualDeductibleAmt', 'Patient_Age', 'Hospitalization_Duration', 'Claim_Period', 'Patient_Risk_Score']\n",
    "\n",
    "Final_Dataset_Train,Final_Dataset_Test =  create_feature_using_groupby(Final_Dataset_Train, Final_Dataset_Test, ['ClmProcedureCode_4'], columns, 'mean')\n"
   ]
  },
  {
   "cell_type": "code",
   "execution_count": 15,
   "metadata": {},
   "outputs": [
    {
     "name": "stdout",
     "output_type": "stream",
     "text": [
      "PerClmProcedureCode_5_mean_InscClaimAmtReimbursed\n",
      "PerClmProcedureCode_5_mean_DeductibleAmtPaid\n",
      "PerClmProcedureCode_5_mean_IPAnnualReimbursementAmt\n",
      "PerClmProcedureCode_5_mean_IPAnnualDeductibleAmt\n",
      "PerClmProcedureCode_5_mean_OPAnnualReimbursementAmt\n",
      "PerClmProcedureCode_5_mean_OPAnnualDeductibleAmt\n",
      "PerClmProcedureCode_5_mean_Patient_Age\n",
      "PerClmProcedureCode_5_mean_Hospitalization_Duration\n",
      "PerClmProcedureCode_5_mean_Claim_Period\n",
      "PerClmProcedureCode_5_mean_Patient_Risk_Score\n"
     ]
    }
   ],
   "source": [
    "columns = ['InscClaimAmtReimbursed', 'DeductibleAmtPaid', 'IPAnnualReimbursementAmt', 'IPAnnualDeductibleAmt', 'OPAnnualReimbursementAmt', 'OPAnnualDeductibleAmt', 'Patient_Age', 'Hospitalization_Duration', 'Claim_Period', 'Patient_Risk_Score']\n",
    "\n",
    "Final_Dataset_Train,Final_Dataset_Test =  create_feature_using_groupby(Final_Dataset_Train, Final_Dataset_Test, ['ClmProcedureCode_5'], columns, 'mean')\n"
   ]
  },
  {
   "cell_type": "code",
   "execution_count": 16,
   "metadata": {},
   "outputs": [
    {
     "name": "stdout",
     "output_type": "stream",
     "text": [
      "PerClmProcedureCode_6_mean_InscClaimAmtReimbursed\n",
      "PerClmProcedureCode_6_mean_DeductibleAmtPaid\n",
      "PerClmProcedureCode_6_mean_IPAnnualReimbursementAmt\n",
      "PerClmProcedureCode_6_mean_IPAnnualDeductibleAmt\n",
      "PerClmProcedureCode_6_mean_OPAnnualReimbursementAmt\n",
      "PerClmProcedureCode_6_mean_OPAnnualDeductibleAmt\n",
      "PerClmProcedureCode_6_mean_Patient_Age\n",
      "PerClmProcedureCode_6_mean_Hospitalization_Duration\n",
      "PerClmProcedureCode_6_mean_Claim_Period\n",
      "PerClmProcedureCode_6_mean_Patient_Risk_Score\n"
     ]
    }
   ],
   "source": [
    "columns = ['InscClaimAmtReimbursed', 'DeductibleAmtPaid', 'IPAnnualReimbursementAmt', 'IPAnnualDeductibleAmt', 'OPAnnualReimbursementAmt', 'OPAnnualDeductibleAmt', 'Patient_Age', 'Hospitalization_Duration', 'Claim_Period', 'Patient_Risk_Score']\n",
    "\n",
    "Final_Dataset_Train,Final_Dataset_Test =  create_feature_using_groupby(Final_Dataset_Train, Final_Dataset_Test, ['ClmProcedureCode_6'], columns, 'mean')"
   ]
  },
  {
   "cell_type": "code",
   "execution_count": 17,
   "metadata": {},
   "outputs": [
    {
     "name": "stdout",
     "output_type": "stream",
     "text": [
      "PerClmDiagnosisCode_1_mean_InscClaimAmtReimbursed\n",
      "PerClmDiagnosisCode_1_mean_DeductibleAmtPaid\n",
      "PerClmDiagnosisCode_1_mean_IPAnnualReimbursementAmt\n",
      "PerClmDiagnosisCode_1_mean_IPAnnualDeductibleAmt\n",
      "PerClmDiagnosisCode_1_mean_OPAnnualReimbursementAmt\n",
      "PerClmDiagnosisCode_1_mean_OPAnnualDeductibleAmt\n",
      "PerClmDiagnosisCode_1_mean_Patient_Age\n",
      "PerClmDiagnosisCode_1_mean_Hospitalization_Duration\n",
      "PerClmDiagnosisCode_1_mean_Claim_Period\n",
      "PerClmDiagnosisCode_1_mean_Patient_Risk_Score\n"
     ]
    }
   ],
   "source": [
    "columns = ['InscClaimAmtReimbursed', 'DeductibleAmtPaid', 'IPAnnualReimbursementAmt', 'IPAnnualDeductibleAmt', 'OPAnnualReimbursementAmt', 'OPAnnualDeductibleAmt', 'Patient_Age', 'Hospitalization_Duration', 'Claim_Period', 'Patient_Risk_Score']\n",
    "\n",
    "Final_Dataset_Train,Final_Dataset_Test =  create_feature_using_groupby(Final_Dataset_Train, Final_Dataset_Test, ['ClmDiagnosisCode_1'], columns, 'mean')\n"
   ]
  },
  {
   "cell_type": "code",
   "execution_count": 18,
   "metadata": {},
   "outputs": [
    {
     "name": "stdout",
     "output_type": "stream",
     "text": [
      "PerClmDiagnosisCode_2_mean_InscClaimAmtReimbursed\n",
      "PerClmDiagnosisCode_2_mean_DeductibleAmtPaid\n",
      "PerClmDiagnosisCode_2_mean_IPAnnualReimbursementAmt\n",
      "PerClmDiagnosisCode_2_mean_IPAnnualDeductibleAmt\n",
      "PerClmDiagnosisCode_2_mean_OPAnnualReimbursementAmt\n",
      "PerClmDiagnosisCode_2_mean_OPAnnualDeductibleAmt\n",
      "PerClmDiagnosisCode_2_mean_Patient_Age\n",
      "PerClmDiagnosisCode_2_mean_Hospitalization_Duration\n",
      "PerClmDiagnosisCode_2_mean_Claim_Period\n",
      "PerClmDiagnosisCode_2_mean_Patient_Risk_Score\n"
     ]
    }
   ],
   "source": [
    "columns = ['InscClaimAmtReimbursed', 'DeductibleAmtPaid', 'IPAnnualReimbursementAmt', 'IPAnnualDeductibleAmt', 'OPAnnualReimbursementAmt', 'OPAnnualDeductibleAmt', 'Patient_Age', 'Hospitalization_Duration', 'Claim_Period', 'Patient_Risk_Score']\n",
    "\n",
    "Final_Dataset_Train,Final_Dataset_Test =  create_feature_using_groupby(Final_Dataset_Train, Final_Dataset_Test, ['ClmDiagnosisCode_2'], columns, 'mean')\n"
   ]
  },
  {
   "cell_type": "code",
   "execution_count": 19,
   "metadata": {},
   "outputs": [
    {
     "name": "stdout",
     "output_type": "stream",
     "text": [
      "PerClmDiagnosisCode_3_mean_InscClaimAmtReimbursed\n",
      "PerClmDiagnosisCode_3_mean_DeductibleAmtPaid\n",
      "PerClmDiagnosisCode_3_mean_IPAnnualReimbursementAmt\n",
      "PerClmDiagnosisCode_3_mean_IPAnnualDeductibleAmt\n",
      "PerClmDiagnosisCode_3_mean_OPAnnualReimbursementAmt\n",
      "PerClmDiagnosisCode_3_mean_OPAnnualDeductibleAmt\n",
      "PerClmDiagnosisCode_3_mean_Patient_Age\n",
      "PerClmDiagnosisCode_3_mean_Hospitalization_Duration\n",
      "PerClmDiagnosisCode_3_mean_Claim_Period\n",
      "PerClmDiagnosisCode_3_mean_Patient_Risk_Score\n"
     ]
    }
   ],
   "source": [
    "columns = ['InscClaimAmtReimbursed', 'DeductibleAmtPaid', 'IPAnnualReimbursementAmt', 'IPAnnualDeductibleAmt', 'OPAnnualReimbursementAmt', 'OPAnnualDeductibleAmt', 'Patient_Age', 'Hospitalization_Duration', 'Claim_Period', 'Patient_Risk_Score']\n",
    "\n",
    "Final_Dataset_Train,Final_Dataset_Test =  create_feature_using_groupby(Final_Dataset_Train, Final_Dataset_Test, ['ClmDiagnosisCode_3'], columns, 'mean')\n"
   ]
  },
  {
   "cell_type": "code",
   "execution_count": 20,
   "metadata": {},
   "outputs": [
    {
     "name": "stdout",
     "output_type": "stream",
     "text": [
      "PerClmDiagnosisCode_4_mean_InscClaimAmtReimbursed\n",
      "PerClmDiagnosisCode_4_mean_DeductibleAmtPaid\n",
      "PerClmDiagnosisCode_4_mean_IPAnnualReimbursementAmt\n",
      "PerClmDiagnosisCode_4_mean_IPAnnualDeductibleAmt\n",
      "PerClmDiagnosisCode_4_mean_OPAnnualReimbursementAmt\n",
      "PerClmDiagnosisCode_4_mean_OPAnnualDeductibleAmt\n",
      "PerClmDiagnosisCode_4_mean_Patient_Age\n",
      "PerClmDiagnosisCode_4_mean_Hospitalization_Duration\n",
      "PerClmDiagnosisCode_4_mean_Claim_Period\n",
      "PerClmDiagnosisCode_4_mean_Patient_Risk_Score\n"
     ]
    }
   ],
   "source": [
    "columns = ['InscClaimAmtReimbursed', 'DeductibleAmtPaid', 'IPAnnualReimbursementAmt', 'IPAnnualDeductibleAmt', 'OPAnnualReimbursementAmt', 'OPAnnualDeductibleAmt', 'Patient_Age', 'Hospitalization_Duration', 'Claim_Period', 'Patient_Risk_Score']\n",
    "\n",
    "Final_Dataset_Train,Final_Dataset_Test =  create_feature_using_groupby(Final_Dataset_Train, Final_Dataset_Test, ['ClmDiagnosisCode_4'], columns, 'mean')\n"
   ]
  },
  {
   "cell_type": "code",
   "execution_count": 21,
   "metadata": {},
   "outputs": [
    {
     "name": "stdout",
     "output_type": "stream",
     "text": [
      "PerClmDiagnosisCode_5_mean_InscClaimAmtReimbursed\n",
      "PerClmDiagnosisCode_5_mean_DeductibleAmtPaid\n",
      "PerClmDiagnosisCode_5_mean_IPAnnualReimbursementAmt\n",
      "PerClmDiagnosisCode_5_mean_IPAnnualDeductibleAmt\n",
      "PerClmDiagnosisCode_5_mean_OPAnnualReimbursementAmt\n",
      "PerClmDiagnosisCode_5_mean_OPAnnualDeductibleAmt\n",
      "PerClmDiagnosisCode_5_mean_Patient_Age\n",
      "PerClmDiagnosisCode_5_mean_Hospitalization_Duration\n",
      "PerClmDiagnosisCode_5_mean_Claim_Period\n",
      "PerClmDiagnosisCode_5_mean_Patient_Risk_Score\n"
     ]
    }
   ],
   "source": [
    "columns = ['InscClaimAmtReimbursed', 'DeductibleAmtPaid', 'IPAnnualReimbursementAmt', 'IPAnnualDeductibleAmt', 'OPAnnualReimbursementAmt', 'OPAnnualDeductibleAmt', 'Patient_Age', 'Hospitalization_Duration', 'Claim_Period', 'Patient_Risk_Score']\n",
    "\n",
    "Final_Dataset_Train,Final_Dataset_Test =  create_feature_using_groupby(Final_Dataset_Train, Final_Dataset_Test, ['ClmDiagnosisCode_5'], columns, 'mean')\n"
   ]
  },
  {
   "cell_type": "code",
   "execution_count": 22,
   "metadata": {},
   "outputs": [
    {
     "name": "stdout",
     "output_type": "stream",
     "text": [
      "PerClmDiagnosisCode_6_mean_InscClaimAmtReimbursed\n",
      "PerClmDiagnosisCode_6_mean_DeductibleAmtPaid\n",
      "PerClmDiagnosisCode_6_mean_IPAnnualReimbursementAmt\n",
      "PerClmDiagnosisCode_6_mean_IPAnnualDeductibleAmt\n",
      "PerClmDiagnosisCode_6_mean_OPAnnualReimbursementAmt\n",
      "PerClmDiagnosisCode_6_mean_OPAnnualDeductibleAmt\n",
      "PerClmDiagnosisCode_6_mean_Patient_Age\n",
      "PerClmDiagnosisCode_6_mean_Hospitalization_Duration\n",
      "PerClmDiagnosisCode_6_mean_Claim_Period\n",
      "PerClmDiagnosisCode_6_mean_Patient_Risk_Score\n"
     ]
    }
   ],
   "source": [
    "columns = ['InscClaimAmtReimbursed', 'DeductibleAmtPaid', 'IPAnnualReimbursementAmt', 'IPAnnualDeductibleAmt', 'OPAnnualReimbursementAmt', 'OPAnnualDeductibleAmt', 'Patient_Age', 'Hospitalization_Duration', 'Claim_Period', 'Patient_Risk_Score']\n",
    "\n",
    "Final_Dataset_Train,Final_Dataset_Test =  create_feature_using_groupby(Final_Dataset_Train, Final_Dataset_Test, ['ClmDiagnosisCode_6'], columns, 'mean')\n"
   ]
  },
  {
   "cell_type": "code",
   "execution_count": 23,
   "metadata": {},
   "outputs": [
    {
     "name": "stdout",
     "output_type": "stream",
     "text": [
      "PerProvider_count_ClaimID\n"
     ]
    }
   ],
   "source": [
    "# Count the claims per provider\n",
    "Final_Dataset_Train, Final_Dataset_Test =  create_feature_using_groupby(Final_Dataset_Train, Final_Dataset_Test, ['Provider'], ['ClaimID'], 'count')"
   ]
  },
  {
   "cell_type": "markdown",
   "metadata": {},
   "source": [
    "Sometimes Providers along with physicians, beneficiaries and sometimes diagnosis and procedures are also associated.\n",
    "Need to create features with Providers and create group by count"
   ]
  },
  {
   "cell_type": "code",
   "execution_count": 24,
   "metadata": {},
   "outputs": [
    {
     "name": "stdout",
     "output_type": "stream",
     "text": [
      "PerProviderBeneID_count_ClaimID\n",
      "PerProviderAttendingPhysician_count_ClaimID\n",
      "PerProviderOtherPhysician_count_ClaimID\n",
      "PerProviderOperatingPhysician_count_ClaimID\n",
      "PerProviderClmAdmitDiagnosisCode_count_ClaimID\n",
      "PerProviderClmProcedureCode_1_count_ClaimID\n",
      "PerProviderClmProcedureCode_2_count_ClaimID\n",
      "PerProviderClmProcedureCode_3_count_ClaimID\n",
      "PerProviderClmProcedureCode_4_count_ClaimID\n",
      "PerProviderClmProcedureCode_5_count_ClaimID\n",
      "PerProviderClmDiagnosisCode_1_count_ClaimID\n",
      "PerProviderClmDiagnosisCode_2_count_ClaimID\n",
      "PerProviderClmDiagnosisCode_3_count_ClaimID\n",
      "PerProviderClmDiagnosisCode_4_count_ClaimID\n",
      "PerProviderClmDiagnosisCode_5_count_ClaimID\n",
      "PerProviderClmDiagnosisCode_6_count_ClaimID\n",
      "PerProviderDiagnosisGroupCode_count_ClaimID\n"
     ]
    }
   ],
   "source": [
    "columns = ['ClaimID']\n",
    "grp_by_cols = ['BeneID', 'AttendingPhysician', 'OtherPhysician', 'OperatingPhysician', 'ClmAdmitDiagnosisCode', 'ClmProcedureCode_1',\n",
    "               'ClmProcedureCode_2', 'ClmProcedureCode_3', 'ClmProcedureCode_4', 'ClmProcedureCode_5', 'ClmDiagnosisCode_1', 'ClmDiagnosisCode_2',\n",
    "               'ClmDiagnosisCode_3', 'ClmDiagnosisCode_4', 'ClmDiagnosisCode_5', 'ClmDiagnosisCode_6', 'DiagnosisGroupCode']\n",
    "for ele in grp_by_cols:\n",
    "    lst = ['Provider', ele]\n",
    "    Final_Dataset_Train,Final_Dataset_Test =  create_feature_using_groupby(Final_Dataset_Train, Final_Dataset_Test, lst, columns, 'count')\n"
   ]
  },
  {
   "cell_type": "code",
   "execution_count": 25,
   "metadata": {},
   "outputs": [
    {
     "data": {
      "text/plain": [
       "(558211, 285)"
      ]
     },
     "execution_count": 25,
     "metadata": {},
     "output_type": "execute_result"
    }
   ],
   "source": [
    "Final_Dataset_Train.shape"
   ]
  },
  {
   "cell_type": "code",
   "execution_count": 26,
   "metadata": {},
   "outputs": [
    {
     "data": {
      "text/plain": [
       "(135392, 284)"
      ]
     },
     "execution_count": 26,
     "metadata": {},
     "output_type": "execute_result"
    }
   ],
   "source": [
    "Final_Dataset_Test.shape"
   ]
  },
  {
   "cell_type": "markdown",
   "metadata": {},
   "source": [
    "Checking train and test have same columns except the target column of fraud"
   ]
  },
  {
   "cell_type": "code",
   "execution_count": 27,
   "metadata": {},
   "outputs": [
    {
     "name": "stdout",
     "output_type": "stream",
     "text": [
      "PotentialFraud\n"
     ]
    }
   ],
   "source": [
    "for col in Final_Dataset_Train.columns:\n",
    "    if col not in Final_Dataset_Test.columns:\n",
    "        print(col)"
   ]
  },
  {
   "cell_type": "markdown",
   "metadata": {},
   "source": [
    "Remove the columns which are no longer required"
   ]
  },
  {
   "cell_type": "code",
   "execution_count": 28,
   "metadata": {},
   "outputs": [],
   "source": [
    "remove_columns=['BeneID', 'ClaimID', 'ClaimStartDt','ClaimEndDt','AttendingPhysician','OperatingPhysician', 'OtherPhysician',\n",
    "                'ClmDiagnosisCode_1','ClmDiagnosisCode_2', 'ClmDiagnosisCode_3', 'ClmDiagnosisCode_4','ClmDiagnosisCode_5',\n",
    "                'ClmDiagnosisCode_6', 'ClmDiagnosisCode_7','ClmDiagnosisCode_8', 'ClmDiagnosisCode_9', 'ClmDiagnosisCode_10',\n",
    "                'ClmProcedureCode_1', 'ClmProcedureCode_2', 'ClmProcedureCode_3','ClmProcedureCode_4', 'ClmProcedureCode_5',\n",
    "                'ClmProcedureCode_6','ClmAdmitDiagnosisCode', 'AdmissionDt','ClaimStart_Year', 'ClaimStart_Year', 'ClaimStart_Month',\n",
    "                'ClaimEnd_Year', 'ClaimEnd_Month', 'Admission_Year', 'Admission_Month', 'Discharge_Year', 'Discharge_Month',\n",
    "                'DischargeDt', 'DiagnosisGroupCode','DOB', 'DOD','Birth_Year', 'Birth_Month','State', 'County']\n",
    "\n",
    "Final_Dataset_Train_FE=Final_Dataset_Train.drop(columns=remove_columns, axis=1)\n",
    "Final_Dataset_Test_FE=Final_Dataset_Test.drop(columns=remove_columns, axis=1)"
   ]
  },
  {
   "cell_type": "code",
   "execution_count": 29,
   "metadata": {},
   "outputs": [],
   "source": [
    "# Convert type of Gender and Race to categorical feature\n",
    "Final_Dataset_Train_FE.Gender=Final_Dataset_Train_FE.Gender.astype('category')\n",
    "Final_Dataset_Test_FE.Gender=Final_Dataset_Test_FE.Gender.astype('category')\n",
    "\n",
    "Final_Dataset_Train_FE.Race=Final_Dataset_Train_FE.Race.astype('category')\n",
    "Final_Dataset_Test_FE.Race=Final_Dataset_Test_FE.Race.astype('category')"
   ]
  },
  {
   "cell_type": "code",
   "execution_count": 30,
   "metadata": {},
   "outputs": [],
   "source": [
    "# Do one hot encoding for gender and Race\n",
    "Final_Dataset_Train_FE=pd.get_dummies(Final_Dataset_Train_FE,columns=['Gender','Race'])\n",
    "Final_Dataset_Test_FE=pd.get_dummies(Final_Dataset_Test_FE,columns=['Gender','Race'])"
   ]
  },
  {
   "cell_type": "markdown",
   "metadata": {},
   "source": [
    "Now group by Provider and take sum to create feature corresponding to each provider"
   ]
  },
  {
   "cell_type": "code",
   "execution_count": 31,
   "metadata": {},
   "outputs": [],
   "source": [
    "Final_Dataset_Provider_Train = Final_Dataset_Train_FE.groupby(['Provider','PotentialFraud'],as_index=False).agg('sum')\n",
    "Final_Dataset_Provider_Test  = Final_Dataset_Test_FE.groupby(['Provider'],as_index=False).agg('sum')\n"
   ]
  },
  {
   "cell_type": "code",
   "execution_count": 32,
   "metadata": {},
   "outputs": [
    {
     "data": {
      "text/plain": [
       "(5410, 248)"
      ]
     },
     "execution_count": 32,
     "metadata": {},
     "output_type": "execute_result"
    }
   ],
   "source": [
    "Final_Dataset_Provider_Train.shape"
   ]
  },
  {
   "cell_type": "code",
   "execution_count": 33,
   "metadata": {},
   "outputs": [
    {
     "data": {
      "text/plain": [
       "(1353, 247)"
      ]
     },
     "execution_count": 33,
     "metadata": {},
     "output_type": "execute_result"
    }
   ],
   "source": [
    "Final_Dataset_Provider_Test.shape"
   ]
  },
  {
   "cell_type": "code",
   "execution_count": 34,
   "metadata": {},
   "outputs": [],
   "source": [
    "Final_Dataset_Provider_Train.PotentialFraud.replace(['Yes','No'],['1','0'],inplace=True)\n",
    "Final_Dataset_Provider_Train.PotentialFraud=Final_Dataset_Provider_Train.PotentialFraud.astype('int64')"
   ]
  },
  {
   "cell_type": "code",
   "execution_count": 35,
   "metadata": {},
   "outputs": [
    {
     "data": {
      "text/html": [
       "<div>\n",
       "<style scoped>\n",
       "    .dataframe tbody tr th:only-of-type {\n",
       "        vertical-align: middle;\n",
       "    }\n",
       "\n",
       "    .dataframe tbody tr th {\n",
       "        vertical-align: top;\n",
       "    }\n",
       "\n",
       "    .dataframe thead th {\n",
       "        text-align: right;\n",
       "    }\n",
       "</style>\n",
       "<table border=\"1\" class=\"dataframe\">\n",
       "  <thead>\n",
       "    <tr style=\"text-align: right;\">\n",
       "      <th></th>\n",
       "      <th>Provider</th>\n",
       "      <th>PotentialFraud</th>\n",
       "      <th>Unnamed: 0</th>\n",
       "      <th>InscClaimAmtReimbursed</th>\n",
       "      <th>DeductibleAmtPaid</th>\n",
       "      <th>Hospitalization_Duration</th>\n",
       "      <th>Claim_Period</th>\n",
       "      <th>ExtraClaimDays</th>\n",
       "      <th>Inpatient_or_Outpatient</th>\n",
       "      <th>RenalDiseaseIndicator</th>\n",
       "      <th>...</th>\n",
       "      <th>PerProviderClmDiagnosisCode_4_count_ClaimID</th>\n",
       "      <th>PerProviderClmDiagnosisCode_5_count_ClaimID</th>\n",
       "      <th>PerProviderClmDiagnosisCode_6_count_ClaimID</th>\n",
       "      <th>PerProviderDiagnosisGroupCode_count_ClaimID</th>\n",
       "      <th>Gender_0</th>\n",
       "      <th>Gender_1</th>\n",
       "      <th>Race_1</th>\n",
       "      <th>Race_2</th>\n",
       "      <th>Race_3</th>\n",
       "      <th>Race_5</th>\n",
       "    </tr>\n",
       "  </thead>\n",
       "  <tbody>\n",
       "    <tr>\n",
       "      <th>0</th>\n",
       "      <td>PRV51001</td>\n",
       "      <td>0</td>\n",
       "      <td>13038925</td>\n",
       "      <td>104640</td>\n",
       "      <td>5340.0</td>\n",
       "      <td>30.0</td>\n",
       "      <td>61</td>\n",
       "      <td>0.0</td>\n",
       "      <td>5</td>\n",
       "      <td>8</td>\n",
       "      <td>...</td>\n",
       "      <td>297</td>\n",
       "      <td>297</td>\n",
       "      <td>297</td>\n",
       "      <td>405</td>\n",
       "      <td>16</td>\n",
       "      <td>9</td>\n",
       "      <td>21</td>\n",
       "      <td>4</td>\n",
       "      <td>0</td>\n",
       "      <td>0</td>\n",
       "    </tr>\n",
       "    <tr>\n",
       "      <th>1</th>\n",
       "      <td>PRV51003</td>\n",
       "      <td>1</td>\n",
       "      <td>60759138</td>\n",
       "      <td>605670</td>\n",
       "      <td>66286.0</td>\n",
       "      <td>382.0</td>\n",
       "      <td>617</td>\n",
       "      <td>0.0</td>\n",
       "      <td>62</td>\n",
       "      <td>29</td>\n",
       "      <td>...</td>\n",
       "      <td>3046</td>\n",
       "      <td>4452</td>\n",
       "      <td>5556</td>\n",
       "      <td>4972</td>\n",
       "      <td>78</td>\n",
       "      <td>54</td>\n",
       "      <td>107</td>\n",
       "      <td>24</td>\n",
       "      <td>0</td>\n",
       "      <td>1</td>\n",
       "    </tr>\n",
       "  </tbody>\n",
       "</table>\n",
       "<p>2 rows × 248 columns</p>\n",
       "</div>"
      ],
      "text/plain": [
       "   Provider  PotentialFraud  Unnamed: 0  InscClaimAmtReimbursed  \\\n",
       "0  PRV51001               0    13038925                  104640   \n",
       "1  PRV51003               1    60759138                  605670   \n",
       "\n",
       "   DeductibleAmtPaid  Hospitalization_Duration  Claim_Period  ExtraClaimDays  \\\n",
       "0             5340.0                      30.0            61             0.0   \n",
       "1            66286.0                     382.0           617             0.0   \n",
       "\n",
       "   Inpatient_or_Outpatient  RenalDiseaseIndicator  ...  \\\n",
       "0                        5                      8  ...   \n",
       "1                       62                     29  ...   \n",
       "\n",
       "   PerProviderClmDiagnosisCode_4_count_ClaimID  \\\n",
       "0                                          297   \n",
       "1                                         3046   \n",
       "\n",
       "   PerProviderClmDiagnosisCode_5_count_ClaimID  \\\n",
       "0                                          297   \n",
       "1                                         4452   \n",
       "\n",
       "   PerProviderClmDiagnosisCode_6_count_ClaimID  \\\n",
       "0                                          297   \n",
       "1                                         5556   \n",
       "\n",
       "   PerProviderDiagnosisGroupCode_count_ClaimID  Gender_0  Gender_1  Race_1  \\\n",
       "0                                          405        16         9      21   \n",
       "1                                         4972        78        54     107   \n",
       "\n",
       "   Race_2  Race_3  Race_5  \n",
       "0       4       0       0  \n",
       "1      24       0       1  \n",
       "\n",
       "[2 rows x 248 columns]"
      ]
     },
     "execution_count": 35,
     "metadata": {},
     "output_type": "execute_result"
    }
   ],
   "source": [
    "Final_Dataset_Provider_Train.head(2)"
   ]
  },
  {
   "cell_type": "code",
   "execution_count": 36,
   "metadata": {},
   "outputs": [
    {
     "data": {
      "text/html": [
       "<div>\n",
       "<style scoped>\n",
       "    .dataframe tbody tr th:only-of-type {\n",
       "        vertical-align: middle;\n",
       "    }\n",
       "\n",
       "    .dataframe tbody tr th {\n",
       "        vertical-align: top;\n",
       "    }\n",
       "\n",
       "    .dataframe thead th {\n",
       "        text-align: right;\n",
       "    }\n",
       "</style>\n",
       "<table border=\"1\" class=\"dataframe\">\n",
       "  <thead>\n",
       "    <tr style=\"text-align: right;\">\n",
       "      <th></th>\n",
       "      <th>Provider</th>\n",
       "      <th>Unnamed: 0</th>\n",
       "      <th>InscClaimAmtReimbursed</th>\n",
       "      <th>DeductibleAmtPaid</th>\n",
       "      <th>Hospitalization_Duration</th>\n",
       "      <th>Claim_Period</th>\n",
       "      <th>ExtraClaimDays</th>\n",
       "      <th>Inpatient_or_Outpatient</th>\n",
       "      <th>RenalDiseaseIndicator</th>\n",
       "      <th>NoOfMonths_PartACov</th>\n",
       "      <th>...</th>\n",
       "      <th>PerProviderClmDiagnosisCode_4_count_ClaimID</th>\n",
       "      <th>PerProviderClmDiagnosisCode_5_count_ClaimID</th>\n",
       "      <th>PerProviderClmDiagnosisCode_6_count_ClaimID</th>\n",
       "      <th>PerProviderDiagnosisGroupCode_count_ClaimID</th>\n",
       "      <th>Gender_0</th>\n",
       "      <th>Gender_1</th>\n",
       "      <th>Race_1</th>\n",
       "      <th>Race_2</th>\n",
       "      <th>Race_3</th>\n",
       "      <th>Race_5</th>\n",
       "    </tr>\n",
       "  </thead>\n",
       "  <tbody>\n",
       "    <tr>\n",
       "      <th>0</th>\n",
       "      <td>PRV51002</td>\n",
       "      <td>10762295</td>\n",
       "      <td>53790</td>\n",
       "      <td>380.0</td>\n",
       "      <td>0.0</td>\n",
       "      <td>406</td>\n",
       "      <td>0.0</td>\n",
       "      <td>0</td>\n",
       "      <td>32</td>\n",
       "      <td>2424</td>\n",
       "      <td>...</td>\n",
       "      <td>24095</td>\n",
       "      <td>30657</td>\n",
       "      <td>34619</td>\n",
       "      <td>42025</td>\n",
       "      <td>134</td>\n",
       "      <td>71</td>\n",
       "      <td>169</td>\n",
       "      <td>30</td>\n",
       "      <td>2</td>\n",
       "      <td>4</td>\n",
       "    </tr>\n",
       "    <tr>\n",
       "      <th>1</th>\n",
       "      <td>PRV51006</td>\n",
       "      <td>7319367</td>\n",
       "      <td>30720</td>\n",
       "      <td>0.0</td>\n",
       "      <td>0.0</td>\n",
       "      <td>315</td>\n",
       "      <td>0.0</td>\n",
       "      <td>0</td>\n",
       "      <td>10</td>\n",
       "      <td>1224</td>\n",
       "      <td>...</td>\n",
       "      <td>5810</td>\n",
       "      <td>7584</td>\n",
       "      <td>8294</td>\n",
       "      <td>10404</td>\n",
       "      <td>59</td>\n",
       "      <td>43</td>\n",
       "      <td>76</td>\n",
       "      <td>26</td>\n",
       "      <td>0</td>\n",
       "      <td>0</td>\n",
       "    </tr>\n",
       "  </tbody>\n",
       "</table>\n",
       "<p>2 rows × 247 columns</p>\n",
       "</div>"
      ],
      "text/plain": [
       "   Provider  Unnamed: 0  InscClaimAmtReimbursed  DeductibleAmtPaid  \\\n",
       "0  PRV51002    10762295                   53790              380.0   \n",
       "1  PRV51006     7319367                   30720                0.0   \n",
       "\n",
       "   Hospitalization_Duration  Claim_Period  ExtraClaimDays  \\\n",
       "0                       0.0           406             0.0   \n",
       "1                       0.0           315             0.0   \n",
       "\n",
       "   Inpatient_or_Outpatient  RenalDiseaseIndicator  NoOfMonths_PartACov  ...  \\\n",
       "0                        0                     32                 2424  ...   \n",
       "1                        0                     10                 1224  ...   \n",
       "\n",
       "   PerProviderClmDiagnosisCode_4_count_ClaimID  \\\n",
       "0                                        24095   \n",
       "1                                         5810   \n",
       "\n",
       "   PerProviderClmDiagnosisCode_5_count_ClaimID  \\\n",
       "0                                        30657   \n",
       "1                                         7584   \n",
       "\n",
       "   PerProviderClmDiagnosisCode_6_count_ClaimID  \\\n",
       "0                                        34619   \n",
       "1                                         8294   \n",
       "\n",
       "   PerProviderDiagnosisGroupCode_count_ClaimID  Gender_0  Gender_1  Race_1  \\\n",
       "0                                        42025       134        71     169   \n",
       "1                                        10404        59        43      76   \n",
       "\n",
       "   Race_2  Race_3  Race_5  \n",
       "0      30       2       4  \n",
       "1      26       0       0  \n",
       "\n",
       "[2 rows x 247 columns]"
      ]
     },
     "execution_count": 36,
     "metadata": {},
     "output_type": "execute_result"
    }
   ],
   "source": [
    "Final_Dataset_Provider_Test.head(2)"
   ]
  },
  {
   "cell_type": "code",
   "execution_count": 37,
   "metadata": {},
   "outputs": [],
   "source": [
    "Final_Dataset_Provider_Train.to_csv('C:/Users/Asus/Desktop/Final_Implementation/Processed/Final_Train_adv.csv')\n",
    "Final_Dataset_Provider_Test.to_csv('C:/Users/Asus/Desktop/Final_Implementation/Processed/Final_Test_adv.csv')"
   ]
  }
 ],
 "metadata": {
  "kernelspec": {
   "display_name": "venv",
   "language": "python",
   "name": "python3"
  },
  "language_info": {
   "codemirror_mode": {
    "name": "ipython",
    "version": 3
   },
   "file_extension": ".py",
   "mimetype": "text/x-python",
   "name": "python",
   "nbconvert_exporter": "python",
   "pygments_lexer": "ipython3",
   "version": "3.11.0"
  }
 },
 "nbformat": 4,
 "nbformat_minor": 2
}
