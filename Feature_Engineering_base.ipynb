{
 "cells": [
  {
   "cell_type": "markdown",
   "id": "1ae2840e",
   "metadata": {},
   "source": [
    "# Basic Feature Engineering"
   ]
  },
  {
   "cell_type": "code",
   "execution_count": 18,
   "id": "64b19bfa",
   "metadata": {},
   "outputs": [],
   "source": [
    "import matplotlib.pyplot as plt\n",
    "import seaborn as sns\n",
    "import warnings\n",
    "warnings.filterwarnings('ignore')\n",
    "import numpy as np\n",
    "import pandas as pd"
   ]
  },
  {
   "cell_type": "markdown",
   "id": "720b2c90",
   "metadata": {},
   "source": [
    "Reading Input files"
   ]
  },
  {
   "cell_type": "code",
   "execution_count": 19,
   "id": "2e3eebfb",
   "metadata": {},
   "outputs": [],
   "source": [
    "Final_Dataset_Train = pd.read_csv('C:/Users/Asus/Desktop/Final_Implementation/Processed/Final_Dataset_Train.csv')\n",
    "Final_Dataset_Test = pd.read_csv('C:/Users/Asus/Desktop/Final_Implementation/Processed/Final_Dataset_Test.csv')"
   ]
  },
  {
   "cell_type": "markdown",
   "id": "40e8e440",
   "metadata": {},
   "source": [
    "Remove the columns which are no longer required"
   ]
  },
  {
   "cell_type": "code",
   "execution_count": 20,
   "id": "20d16995",
   "metadata": {},
   "outputs": [],
   "source": [
    "remove_columns=['BeneID', 'ClaimID', 'ClaimStartDt','ClaimEndDt','AttendingPhysician','OperatingPhysician', 'OtherPhysician',\n",
    "                'ClmDiagnosisCode_1','ClmDiagnosisCode_2', 'ClmDiagnosisCode_3', 'ClmDiagnosisCode_4','ClmDiagnosisCode_5',\n",
    "                'ClmDiagnosisCode_6', 'ClmDiagnosisCode_7','ClmDiagnosisCode_8', 'ClmDiagnosisCode_9', 'ClmDiagnosisCode_10',\n",
    "                'ClmProcedureCode_1', 'ClmProcedureCode_2', 'ClmProcedureCode_3','ClmProcedureCode_4', 'ClmProcedureCode_5',\n",
    "                'ClmProcedureCode_6','ClmAdmitDiagnosisCode', 'AdmissionDt', 'ClaimStart_Year', 'ClaimStart_Month',\n",
    "                'ClaimEnd_Year', 'ClaimEnd_Month', 'Admission_Year', 'Admission_Month', 'Discharge_Year', 'Discharge_Month',\n",
    "                'DischargeDt', 'DiagnosisGroupCode','DOB', 'DOD','Birth_Year', 'Birth_Month','State', 'County','IPAnnualReimbursementAmt', \n",
    "                'OPAnnualReimbursementAmt','IPAnnualDeductibleAmt',   'OPAnnualDeductibleAmt']\n",
    "\n",
    "Final_Dataset_Train_FE=Final_Dataset_Train.drop(columns=remove_columns, axis=1)\n",
    "Final_Dataset_Test_FE=Final_Dataset_Test.drop(columns=remove_columns, axis=1)"
   ]
  },
  {
   "cell_type": "code",
   "execution_count": 21,
   "id": "a0333bcc",
   "metadata": {},
   "outputs": [],
   "source": [
    "# Convert type of Gender and Race to categorical feature\n",
    "Final_Dataset_Train_FE.Gender=Final_Dataset_Train_FE.Gender.astype('category')\n",
    "Final_Dataset_Test_FE.Gender=Final_Dataset_Test_FE.Gender.astype('category')\n",
    "\n",
    "Final_Dataset_Train_FE.Race=Final_Dataset_Train_FE.Race.astype('category')\n",
    "Final_Dataset_Test_FE.Race=Final_Dataset_Test_FE.Race.astype('category')"
   ]
  },
  {
   "cell_type": "code",
   "execution_count": 22,
   "id": "cc9e70fa",
   "metadata": {},
   "outputs": [],
   "source": [
    "# Do one hot encoding for gender and Race\n",
    "Final_Dataset_Train_FE=pd.get_dummies(Final_Dataset_Train_FE,columns=['Gender','Race'])\n",
    "Final_Dataset_Test_FE=pd.get_dummies(Final_Dataset_Test_FE,columns=['Gender','Race'])"
   ]
  },
  {
   "cell_type": "markdown",
   "id": "8f5c76fb",
   "metadata": {},
   "source": [
    "Now group by Provider and take sum to create feature corresponding to each provider"
   ]
  },
  {
   "cell_type": "code",
   "execution_count": 23,
   "id": "59192544",
   "metadata": {},
   "outputs": [],
   "source": [
    "Final_Dataset_Provider_Train = Final_Dataset_Train_FE.groupby(['Provider','PotentialFraud'],as_index=False).agg('sum')\n",
    "Final_Dataset_Provider_Test  = Final_Dataset_Test_FE.groupby(['Provider'],as_index=False).agg('sum')\n"
   ]
  },
  {
   "cell_type": "code",
   "execution_count": 24,
   "id": "b756dc42",
   "metadata": {},
   "outputs": [
    {
     "data": {
      "text/plain": [
       "(5410, 34)"
      ]
     },
     "execution_count": 24,
     "metadata": {},
     "output_type": "execute_result"
    }
   ],
   "source": [
    "Final_Dataset_Provider_Train.shape"
   ]
  },
  {
   "cell_type": "code",
   "execution_count": 25,
   "id": "ea6f722e",
   "metadata": {},
   "outputs": [
    {
     "data": {
      "text/plain": [
       "(1353, 33)"
      ]
     },
     "execution_count": 25,
     "metadata": {},
     "output_type": "execute_result"
    }
   ],
   "source": [
    "Final_Dataset_Provider_Test.shape"
   ]
  },
  {
   "cell_type": "code",
   "execution_count": 26,
   "id": "d0f40901",
   "metadata": {},
   "outputs": [],
   "source": [
    "Final_Dataset_Provider_Train.PotentialFraud.replace(['Yes','No'],['1','0'],inplace=True)\n",
    "Final_Dataset_Provider_Train.PotentialFraud=Final_Dataset_Provider_Train.PotentialFraud.astype('int64')"
   ]
  },
  {
   "cell_type": "code",
   "execution_count": 27,
   "id": "23c92a38",
   "metadata": {},
   "outputs": [
    {
     "data": {
      "text/html": [
       "<div>\n",
       "<style scoped>\n",
       "    .dataframe tbody tr th:only-of-type {\n",
       "        vertical-align: middle;\n",
       "    }\n",
       "\n",
       "    .dataframe tbody tr th {\n",
       "        vertical-align: top;\n",
       "    }\n",
       "\n",
       "    .dataframe thead th {\n",
       "        text-align: right;\n",
       "    }\n",
       "</style>\n",
       "<table border=\"1\" class=\"dataframe\">\n",
       "  <thead>\n",
       "    <tr style=\"text-align: right;\">\n",
       "      <th></th>\n",
       "      <th>Provider</th>\n",
       "      <th>PotentialFraud</th>\n",
       "      <th>Unnamed: 0</th>\n",
       "      <th>InscClaimAmtReimbursed</th>\n",
       "      <th>DeductibleAmtPaid</th>\n",
       "      <th>Hospitalization_Duration</th>\n",
       "      <th>Claim_Period</th>\n",
       "      <th>ExtraClaimDays</th>\n",
       "      <th>Inpatient_or_Outpatient</th>\n",
       "      <th>RenalDiseaseIndicator</th>\n",
       "      <th>...</th>\n",
       "      <th>Patient_Age</th>\n",
       "      <th>isDead</th>\n",
       "      <th>IP_OP_TotalReimbursementAmt</th>\n",
       "      <th>IP_OP_AnnualDeductibleAmt</th>\n",
       "      <th>Gender_0</th>\n",
       "      <th>Gender_1</th>\n",
       "      <th>Race_1</th>\n",
       "      <th>Race_2</th>\n",
       "      <th>Race_3</th>\n",
       "      <th>Race_5</th>\n",
       "    </tr>\n",
       "  </thead>\n",
       "  <tbody>\n",
       "    <tr>\n",
       "      <th>0</th>\n",
       "      <td>PRV51001</td>\n",
       "      <td>0</td>\n",
       "      <td>13038925</td>\n",
       "      <td>104640</td>\n",
       "      <td>5340.0</td>\n",
       "      <td>30.0</td>\n",
       "      <td>61</td>\n",
       "      <td>0.0</td>\n",
       "      <td>5</td>\n",
       "      <td>8</td>\n",
       "      <td>...</td>\n",
       "      <td>1971.0</td>\n",
       "      <td>0</td>\n",
       "      <td>505530</td>\n",
       "      <td>34026</td>\n",
       "      <td>16</td>\n",
       "      <td>9</td>\n",
       "      <td>21</td>\n",
       "      <td>4</td>\n",
       "      <td>0</td>\n",
       "      <td>0</td>\n",
       "    </tr>\n",
       "    <tr>\n",
       "      <th>1</th>\n",
       "      <td>PRV51003</td>\n",
       "      <td>1</td>\n",
       "      <td>60759138</td>\n",
       "      <td>605670</td>\n",
       "      <td>66286.0</td>\n",
       "      <td>382.0</td>\n",
       "      <td>617</td>\n",
       "      <td>0.0</td>\n",
       "      <td>62</td>\n",
       "      <td>29</td>\n",
       "      <td>...</td>\n",
       "      <td>9243.0</td>\n",
       "      <td>1</td>\n",
       "      <td>1352520</td>\n",
       "      <td>220248</td>\n",
       "      <td>78</td>\n",
       "      <td>54</td>\n",
       "      <td>107</td>\n",
       "      <td>24</td>\n",
       "      <td>0</td>\n",
       "      <td>1</td>\n",
       "    </tr>\n",
       "  </tbody>\n",
       "</table>\n",
       "<p>2 rows × 34 columns</p>\n",
       "</div>"
      ],
      "text/plain": [
       "   Provider  PotentialFraud  Unnamed: 0  InscClaimAmtReimbursed  \\\n",
       "0  PRV51001               0    13038925                  104640   \n",
       "1  PRV51003               1    60759138                  605670   \n",
       "\n",
       "   DeductibleAmtPaid  Hospitalization_Duration  Claim_Period  ExtraClaimDays  \\\n",
       "0             5340.0                      30.0            61             0.0   \n",
       "1            66286.0                     382.0           617             0.0   \n",
       "\n",
       "   Inpatient_or_Outpatient  RenalDiseaseIndicator  ...  Patient_Age  isDead  \\\n",
       "0                        5                      8  ...       1971.0       0   \n",
       "1                       62                     29  ...       9243.0       1   \n",
       "\n",
       "   IP_OP_TotalReimbursementAmt  IP_OP_AnnualDeductibleAmt  Gender_0  Gender_1  \\\n",
       "0                       505530                      34026        16         9   \n",
       "1                      1352520                     220248        78        54   \n",
       "\n",
       "   Race_1  Race_2  Race_3  Race_5  \n",
       "0      21       4       0       0  \n",
       "1     107      24       0       1  \n",
       "\n",
       "[2 rows x 34 columns]"
      ]
     },
     "execution_count": 27,
     "metadata": {},
     "output_type": "execute_result"
    }
   ],
   "source": [
    "Final_Dataset_Provider_Train.head(2)"
   ]
  },
  {
   "cell_type": "code",
   "execution_count": 28,
   "id": "b60b6a5c",
   "metadata": {},
   "outputs": [
    {
     "data": {
      "text/html": [
       "<div>\n",
       "<style scoped>\n",
       "    .dataframe tbody tr th:only-of-type {\n",
       "        vertical-align: middle;\n",
       "    }\n",
       "\n",
       "    .dataframe tbody tr th {\n",
       "        vertical-align: top;\n",
       "    }\n",
       "\n",
       "    .dataframe thead th {\n",
       "        text-align: right;\n",
       "    }\n",
       "</style>\n",
       "<table border=\"1\" class=\"dataframe\">\n",
       "  <thead>\n",
       "    <tr style=\"text-align: right;\">\n",
       "      <th></th>\n",
       "      <th>Provider</th>\n",
       "      <th>Unnamed: 0</th>\n",
       "      <th>InscClaimAmtReimbursed</th>\n",
       "      <th>DeductibleAmtPaid</th>\n",
       "      <th>Hospitalization_Duration</th>\n",
       "      <th>Claim_Period</th>\n",
       "      <th>ExtraClaimDays</th>\n",
       "      <th>Inpatient_or_Outpatient</th>\n",
       "      <th>RenalDiseaseIndicator</th>\n",
       "      <th>NoOfMonths_PartACov</th>\n",
       "      <th>...</th>\n",
       "      <th>Patient_Age</th>\n",
       "      <th>isDead</th>\n",
       "      <th>IP_OP_TotalReimbursementAmt</th>\n",
       "      <th>IP_OP_AnnualDeductibleAmt</th>\n",
       "      <th>Gender_0</th>\n",
       "      <th>Gender_1</th>\n",
       "      <th>Race_1</th>\n",
       "      <th>Race_2</th>\n",
       "      <th>Race_3</th>\n",
       "      <th>Race_5</th>\n",
       "    </tr>\n",
       "  </thead>\n",
       "  <tbody>\n",
       "    <tr>\n",
       "      <th>0</th>\n",
       "      <td>PRV51002</td>\n",
       "      <td>10762295</td>\n",
       "      <td>53790</td>\n",
       "      <td>380.0</td>\n",
       "      <td>0.0</td>\n",
       "      <td>406</td>\n",
       "      <td>0.0</td>\n",
       "      <td>0</td>\n",
       "      <td>32</td>\n",
       "      <td>2424</td>\n",
       "      <td>...</td>\n",
       "      <td>14835.0</td>\n",
       "      <td>3</td>\n",
       "      <td>1542830</td>\n",
       "      <td>251372</td>\n",
       "      <td>134</td>\n",
       "      <td>71</td>\n",
       "      <td>169</td>\n",
       "      <td>30</td>\n",
       "      <td>2</td>\n",
       "      <td>4</td>\n",
       "    </tr>\n",
       "    <tr>\n",
       "      <th>1</th>\n",
       "      <td>PRV51006</td>\n",
       "      <td>7319367</td>\n",
       "      <td>30720</td>\n",
       "      <td>0.0</td>\n",
       "      <td>0.0</td>\n",
       "      <td>315</td>\n",
       "      <td>0.0</td>\n",
       "      <td>0</td>\n",
       "      <td>10</td>\n",
       "      <td>1224</td>\n",
       "      <td>...</td>\n",
       "      <td>7626.0</td>\n",
       "      <td>0</td>\n",
       "      <td>629260</td>\n",
       "      <td>110724</td>\n",
       "      <td>59</td>\n",
       "      <td>43</td>\n",
       "      <td>76</td>\n",
       "      <td>26</td>\n",
       "      <td>0</td>\n",
       "      <td>0</td>\n",
       "    </tr>\n",
       "  </tbody>\n",
       "</table>\n",
       "<p>2 rows × 33 columns</p>\n",
       "</div>"
      ],
      "text/plain": [
       "   Provider  Unnamed: 0  InscClaimAmtReimbursed  DeductibleAmtPaid  \\\n",
       "0  PRV51002    10762295                   53790              380.0   \n",
       "1  PRV51006     7319367                   30720                0.0   \n",
       "\n",
       "   Hospitalization_Duration  Claim_Period  ExtraClaimDays  \\\n",
       "0                       0.0           406             0.0   \n",
       "1                       0.0           315             0.0   \n",
       "\n",
       "   Inpatient_or_Outpatient  RenalDiseaseIndicator  NoOfMonths_PartACov  ...  \\\n",
       "0                        0                     32                 2424  ...   \n",
       "1                        0                     10                 1224  ...   \n",
       "\n",
       "   Patient_Age  isDead  IP_OP_TotalReimbursementAmt  \\\n",
       "0      14835.0       3                      1542830   \n",
       "1       7626.0       0                       629260   \n",
       "\n",
       "   IP_OP_AnnualDeductibleAmt  Gender_0  Gender_1  Race_1  Race_2  Race_3  \\\n",
       "0                     251372       134        71     169      30       2   \n",
       "1                     110724        59        43      76      26       0   \n",
       "\n",
       "   Race_5  \n",
       "0       4  \n",
       "1       0  \n",
       "\n",
       "[2 rows x 33 columns]"
      ]
     },
     "execution_count": 28,
     "metadata": {},
     "output_type": "execute_result"
    }
   ],
   "source": [
    "Final_Dataset_Provider_Test.head(2)"
   ]
  },
  {
   "cell_type": "code",
   "execution_count": 29,
   "id": "e06c6d67",
   "metadata": {},
   "outputs": [],
   "source": [
    "Final_Dataset_Provider_Train.to_csv('C:/Users/Asus/Desktop/Final_Implementation/Processed/Final_Train_base.csv')\n",
    "Final_Dataset_Provider_Test.to_csv('C:/Users/Asus/Desktop/Final_Implementation/Processed/Final_Test_base.csv')"
   ]
  }
 ],
 "metadata": {
  "kernelspec": {
   "display_name": "venv",
   "language": "python",
   "name": "python3"
  },
  "language_info": {
   "codemirror_mode": {
    "name": "ipython",
    "version": 3
   },
   "file_extension": ".py",
   "mimetype": "text/x-python",
   "name": "python",
   "nbconvert_exporter": "python",
   "pygments_lexer": "ipython3",
   "version": "3.11.0"
  }
 },
 "nbformat": 4,
 "nbformat_minor": 5
}
